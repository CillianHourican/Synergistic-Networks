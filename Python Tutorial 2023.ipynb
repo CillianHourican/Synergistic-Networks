{
 "cells": [
  {
   "cell_type": "code",
   "execution_count": null,
   "id": "ceef10d0",
   "metadata": {},
   "outputs": [],
   "source": [
    "%load_ext snakeviz\n",
    "import random\n",
    "import numba\n",
    "import matplotlib.pyplot as plt\n",
    "import numpy as np"
   ]
  },
  {
   "cell_type": "code",
   "execution_count": null,
   "id": "d1b102c4",
   "metadata": {
    "slideshow": {
     "slide_type": "slide"
    }
   },
   "outputs": [],
   "source": [
    "import this"
   ]
  },
  {
   "cell_type": "markdown",
   "id": "cadf789d",
   "metadata": {},
   "source": [
    "## A Refresher: Classes\n",
    "Python is an object-oriented programming language, and understanding object-oriented programming (OOP) is crucial for advanced programming in Python. In OOP, we use classes and objects to model real-world entities and to organize our code into reusable and maintainable parts.\n",
    "\n",
    "A class is a blueprint for creating objects. It defines the properties and behaviors that objects of that class should have. An object is an instance of a class. It has its own state and behavior, but it also inherits properties and behaviors from its class.\n",
    "\n",
    "Here's an example of a simple class in Python:"
   ]
  },
  {
   "cell_type": "code",
   "execution_count": null,
   "id": "bc65741d",
   "metadata": {},
   "outputs": [],
   "source": [
    "class Person:\n",
    "    def __init__(self, name, age):\n",
    "        self.name = name\n",
    "        self.age = age\n",
    "    \n",
    "    def say_hello(self):\n",
    "        print(f\"Hello, my name is {self.name} and I'm {self.age} years old.\")\n"
   ]
  },
  {
   "cell_type": "markdown",
   "id": "b37cb999",
   "metadata": {},
   "source": [
    "In this example, we define a Person class with two properties (name and age) and a say_hello() method. The __init__() method is a special method that gets called when a new object of the class is created. It takes two arguments (name and age) and initializes the object's properties."
   ]
  },
  {
   "cell_type": "markdown",
   "id": "b8be71bb",
   "metadata": {},
   "source": [
    "To create a new object of the Person class, we use the class name followed by parentheses, like this:"
   ]
  },
  {
   "cell_type": "code",
   "execution_count": null,
   "id": "a9477551",
   "metadata": {},
   "outputs": [],
   "source": [
    "person = Person(\"Alice\", 25)"
   ]
  },
  {
   "cell_type": "markdown",
   "id": "6de6eb82",
   "metadata": {},
   "source": [
    "We can then access the object's properties and call its methods:"
   ]
  },
  {
   "cell_type": "code",
   "execution_count": null,
   "id": "7d7aa47e",
   "metadata": {},
   "outputs": [],
   "source": [
    "print(person.name)  # Output: \"Alice\"\n",
    "print(person.age)  # Output: 25\n",
    "person.say_hello()  # Output: \"Hello, my name is Alice and I'm 25 years old.\""
   ]
  },
  {
   "cell_type": "markdown",
   "id": "19fd6537",
   "metadata": {},
   "source": [
    "## Functional Programming\n",
    "In Python, we can use lambda functions, map, filter, and reduce functions, closures, and decorators to write functional code.\n",
    "\n",
    "A lambda function is a small anonymous function that can take any number of arguments, but can only have one expression. Here's an example of a lambda function that adds two numbers:"
   ]
  },
  {
   "cell_type": "code",
   "execution_count": null,
   "id": "1fd399a6",
   "metadata": {},
   "outputs": [],
   "source": [
    "add = lambda x, y: x + y\n",
    "result = add(3, 5)\n",
    "print(result)  # Output: 8"
   ]
  },
  {
   "cell_type": "markdown",
   "id": "bf07fd91",
   "metadata": {},
   "source": [
    "The map() function applies a function to each item of an iterable and returns a new iterable with the results. Here's an example of using map() to square each number in a list:"
   ]
  },
  {
   "cell_type": "code",
   "execution_count": null,
   "id": "1cea4f2e",
   "metadata": {},
   "outputs": [],
   "source": [
    "numbers = [1, 2, 3, 4, 5]\n",
    "squares = map(lambda x: x**2, numbers)\n",
    "print(list(squares))  # Output: [1, 4, 9, 16, 25]"
   ]
  },
  {
   "cell_type": "markdown",
   "id": "08243144",
   "metadata": {},
   "source": [
    "The filter() function returns a new iterable with the items from the original iterable that satisfy a condition. Here's an example of using filter() to get only the even numbers from a list:"
   ]
  },
  {
   "cell_type": "code",
   "execution_count": null,
   "id": "eb053ae4",
   "metadata": {},
   "outputs": [],
   "source": [
    "numbers = [1, 2, 3, 4, 5]\n",
    "evens = filter(lambda x: x % 2 == 0, numbers)\n",
    "print(list(evens))  # Output: [2, 4]"
   ]
  },
  {
   "cell_type": "markdown",
   "id": "6786b8c1",
   "metadata": {},
   "source": [
    "The reduce() function applies a function to the items of an iterable in a cumulative way. Here's an example of using reduce() to calculate the product of a list of numbers:"
   ]
  },
  {
   "cell_type": "code",
   "execution_count": null,
   "id": "cf5a1f46",
   "metadata": {},
   "outputs": [],
   "source": [
    "from functools import reduce\n",
    "\n",
    "numbers = [1, 2, 3, 4, 5]\n",
    "product = reduce(lambda x, y: x * y, numbers)\n",
    "print(product)  #"
   ]
  },
  {
   "cell_type": "markdown",
   "id": "f630349e",
   "metadata": {},
   "source": [
    "## Exception Handling\n",
    "Exception handling is a mechanism in Python that allows you to handle errors or exceptions that occur during program execution. Exceptions are raised when an error or unexpected condition occurs that disrupts the normal flow of the program. By handling exceptions, you can gracefully recover from errors and prevent your program from crashing.\n",
    "\n",
    "In Python, exceptions are represented as objects that inherit from the BaseException class. When an exception is raised, the program execution is immediately interrupted and the interpreter looks for an exception handler that can handle the exception. If no handler is found, the program terminates and an error message is displayed.\n",
    "\n",
    "Here's an example of a simple exception handler in Python:"
   ]
  },
  {
   "cell_type": "code",
   "execution_count": null,
   "id": "846850fd",
   "metadata": {},
   "outputs": [],
   "source": [
    "try:\n",
    "    x = int(input(\"Enter a number: \"))\n",
    "    y = int(input(\"Enter another number: \"))\n",
    "    result = x / y\n",
    "    print(f\"The result is {result}\")\n",
    "except ZeroDivisionError:\n",
    "    print(\"You cannot divide by zero!\")\n",
    "except ValueError:\n",
    "    print(\"You must enter a valid integer!\")\n",
    "except:\n",
    "    print(\"An error occurred!\")\n"
   ]
  },
  {
   "cell_type": "markdown",
   "id": "ef0e293f",
   "metadata": {},
   "source": [
    "In this example, we use the try statement to execute the code that might raise an exception. If an exception occurs, the program execution is immediately transferred to the except block that handles the exception. If no exception occurs, the except block is skipped.\n",
    "\n",
    "In this case, we handle two specific exceptions (ZeroDivisionError and ValueError) and a generic exception (using the except: statement). The specific exceptions are raised when the user enters invalid input, and the generic exception is raised when any other error occurs."
   ]
  },
  {
   "cell_type": "markdown",
   "id": "ed6391a7",
   "metadata": {},
   "source": [
    "### Example:\n",
    "Write a Python function calculate_pi(n) that uses the Monte Carlo method to estimate the value of pi. The function should take an integer n as input, which represents the number of points to use in the simulation. The function should handle the following types of errors:\n",
    "\n",
    "If n is not a positive integer, raise a ValueError with the message \"Invalid input: n must be a positive integer\".\n",
    "Here's an example solution to this exercise:"
   ]
  },
  {
   "cell_type": "code",
   "execution_count": null,
   "id": "f0856495",
   "metadata": {},
   "outputs": [],
   "source": [
    "def calculate_pi(n):\n",
    "    if not isinstance(n, int) or n <= 0:\n",
    "        raise ValueError(\"Invalid input: n must be a positive integer\")\n",
    "    count = 0\n",
    "    for i in range(n):\n",
    "        x = random.uniform(-1, 1)\n",
    "        y = random.uniform(-1, 1)\n",
    "        if x**2 + y**2 <= 1:\n",
    "            count += 1\n",
    "    return 4 * count / n\n",
    "calculate_pi(2)"
   ]
  },
  {
   "cell_type": "markdown",
   "id": "ffc41483",
   "metadata": {},
   "source": [
    "This function first checks if the input n is a positive integer. If it is not, it raises a ValueError with the appropriate message. If n is valid, the function then performs the Monte Carlo simulation by generating n random points in the unit square and counting the number of points that fall within the unit circle. The ratio of the points inside the circle to the total number of points is used to estimate the value of pi. Finally, the estimated value of pi is returned."
   ]
  },
  {
   "cell_type": "markdown",
   "id": "8695b3b2",
   "metadata": {},
   "source": [
    "### Exercise 1:\n",
    "Write a Python function calculate_average(numbers) that takes a list of numbers as input and returns the average of the numbers. The function should handle the following types of errors:\n",
    "\n",
    "1. If the input is not a list, raise a TypeError with the message \"Input must be a list\".\n",
    "2. If the list is empty, raise a ValueError with the message \"List cannot be empty\".\n",
    "3. If any of the numbers in the list are not valid integers or floats, raise a ValueError with the message \"Invalid input: only integers and floats are allowed\".\n"
   ]
  },
  {
   "cell_type": "code",
   "execution_count": null,
   "id": "4a759302",
   "metadata": {},
   "outputs": [],
   "source": [
    "def calculate_average(numbers):\n",
    "\n",
    "    return \n"
   ]
  },
  {
   "cell_type": "markdown",
   "id": "405e666e",
   "metadata": {},
   "source": [
    "# Timing your code\n",
    "Timing and profiling are important tools for measuring and optimizing the performance of your code. In Python, you can use the \"time\" module and the '''cProfile''' module to measure the execution time of your code and to identify bottlenecks in your code."
   ]
  },
  {
   "cell_type": "markdown",
   "id": "6a9a220f",
   "metadata": {},
   "source": [
    "1. Measure the execution time of your code: You can use the time.perf_counter function to measure the execution time of your code. This function returns the current value of the performance counter, which is a high-resolution timer provided by the operating system. To measure the execution time of a block of code, you can call time.perf_counter before and after the block of code and subtract the start time from the end time. For example:"
   ]
  },
  {
   "cell_type": "code",
   "execution_count": null,
   "id": "85cdffc4",
   "metadata": {},
   "outputs": [],
   "source": [
    "import time\n",
    "\n",
    "start = time.perf_counter()\n",
    "\n",
    "# code to be measured\n",
    "\"-\".join(str(n) for n in range(100))\n",
    "\n",
    "end = time.perf_counter()\n",
    "\n",
    "elapsed_time = end - start\n",
    "print(elapsed_time)"
   ]
  },
  {
   "cell_type": "markdown",
   "id": "f70bfb9c",
   "metadata": {},
   "source": [
    "2. Use the timeit module to measure the execution time of small blocks of code: The timeit module provides a simple way to measure the execution time of small blocks of code. You can use the timeit.timeit function to run a block of code multiple times and return the average execution time. For example:"
   ]
  },
  {
   "cell_type": "code",
   "execution_count": null,
   "id": "c7746b7d",
   "metadata": {},
   "outputs": [],
   "source": [
    "import timeit\n",
    "\n",
    "execution_time = timeit.timeit('\"-\".join(str(n) for n in range(100))', number=10000)\n",
    "print(execution_time)"
   ]
  },
  {
   "cell_type": "markdown",
   "id": "abba0321",
   "metadata": {},
   "source": [
    "3. Use the cProfile module to profile your code: The cProfile module is a built-in library in Python that provides a high-level interface to the Python profiler. It allows you to measure the execution time of your code and to identify bottlenecks in your code. You can use the cProfile.run function to run your code and generate a profile. For example:"
   ]
  },
  {
   "cell_type": "code",
   "execution_count": null,
   "id": "75027569",
   "metadata": {},
   "outputs": [],
   "source": [
    "import cProfile\n",
    "\n",
    "cProfile.run('\"-\".join(str(n) for n in range(100))')"
   ]
  },
  {
   "cell_type": "markdown",
   "id": "df4f9a4a",
   "metadata": {},
   "source": [
    "### Exercise: \n",
    "Accurately measure the execution time of the function calculate_pi() for sufficiently large values of n. "
   ]
  },
  {
   "cell_type": "code",
   "execution_count": null,
   "id": "44a9c979",
   "metadata": {},
   "outputs": [],
   "source": []
  },
  {
   "cell_type": "markdown",
   "id": "3d88b14b",
   "metadata": {},
   "source": [
    "# Speed up your code\n",
    "1. Calculating the value of pi using Monte Carlo simulations\n",
    "2. Implementing a Mandelbrot set"
   ]
  },
  {
   "cell_type": "markdown",
   "id": "1819b3fe",
   "metadata": {},
   "source": [
    "Here is an 'example' of a very inefficient implementation of the Mandelbrot set that does not use any optimization techniques:"
   ]
  },
  {
   "cell_type": "code",
   "execution_count": null,
   "id": "dde1384a",
   "metadata": {},
   "outputs": [],
   "source": [
    "import numpy as np\n",
    "def mandelbrot(c, threshold=2):\n",
    "    z = 0\n",
    "    for i in range(100):\n",
    "        z = z**2 + c\n",
    "        if abs(z) > threshold:\n",
    "            return i\n",
    "    return 0\n",
    "\n",
    "xmin, xmax, ymin, ymax = -2, 1, -1, 1\n",
    "\n",
    "X, Y = np.meshgrid(np.linspace(xmin, xmax, 1000), np.linspace(ymin, ymax, 1000))\n",
    "Z = np.empty(X.shape)\n",
    "\n",
    "for i in range(X.shape[0]):\n",
    "    for j in range(X.shape[1]):\n",
    "        Z[i, j] = mandelbrot(X[i, j] + Y[i, j]*1j)\n",
    "\n",
    "import matplotlib.pyplot as plt\n",
    "\n",
    "plt.imshow(Z, cmap='viridis', extent=(xmin, xmax, ymin, ymax))\n",
    "plt.colorbar()\n",
    "plt.show()\n"
   ]
  },
  {
   "cell_type": "markdown",
   "id": "2863fe5e",
   "metadata": {},
   "source": [
    "In this implementation, the mandelbrot function is defined as a regular Python function that takes a complex number c and a threshold threshold as arguments, and returns an integer that indicates the number of iterations it took for the magnitude of z to exceed the threshold.\n",
    "\n",
    "The Z array is created using the numpy.empty function and the X array, which contain the real parts of the complex numbers. The Z array is then populated using two nested for loops, which iterate over the elements of the X and Y arrays, and apply the mandelbrot function to each element of the X and Y arrays using a complex number.\n",
    "\n",
    "This implementation is very inefficient because it uses two nested for loops to iterate over the elements of the X and Y arrays, and because it applies the mandelbrot function to each element of the X and Y arrays using a complex number. These operations are slow and can be optimized using techniques such as JIT compilation, parallelization, and vectorization."
   ]
  },
  {
   "cell_type": "markdown",
   "id": "a39c904f",
   "metadata": {},
   "source": [
    "We can speed this up using:\n",
    "1. Just-In-Time (JIT) compilation\n",
    "2. Parallelization, \n",
    "3. Vectorization\n",
    "4. Multiprocessing?"
   ]
  },
  {
   "cell_type": "markdown",
   "id": "5cbdc293",
   "metadata": {},
   "source": [
    "### Using vcectorisation/ more pythonic code\n",
    "Here is an example of how you can use NumPy's vectorization capabilities to speed up the computation of the Mandelbrot set:"
   ]
  },
  {
   "cell_type": "code",
   "execution_count": null,
   "id": "a9254406",
   "metadata": {},
   "outputs": [],
   "source": [
    "import numpy as np\n",
    "\n",
    "def mandelbrot(c, threshold=2):\n",
    "    z = 0\n",
    "    for i in range(100):\n",
    "        z = z**2 + c\n",
    "        if abs(z) > threshold:\n",
    "            return i\n",
    "    return 0\n",
    "\n",
    "xmin, xmax, ymin, ymax = -2, 1, -1, 1\n",
    "\n",
    "X, Y = np.meshgrid(np.linspace(xmin, xmax, 1000), np.linspace(ymin, ymax, 1000))\n",
    "C = X + Y*1j\n",
    "\n",
    "Z = np.array([mandelbrot(c) for c in C.flatten()]).reshape(C.shape)\n",
    "\n",
    "import matplotlib.pyplot as plt\n",
    "\n",
    "plt.imshow(Z, cmap='viridis', extent=(xmin, xmax, ymin, ymax))\n",
    "plt.colorbar()\n",
    "plt.show()\n"
   ]
  },
  {
   "cell_type": "markdown",
   "id": "a3c6217a",
   "metadata": {},
   "source": [
    "The C array is created using the numpy.meshgrid function and the X and Y arrays, which contain the real and imaginary parts of the complex numbers, respectively. The C array is then flattened into a 1D array using the flatten method, and the mandelbrot function is applied to each element of the array using a list comprehension. Finally, the result is reshaped into the original shape of the C array using the reshape method."
   ]
  },
  {
   "cell_type": "markdown",
   "id": "2ffa1bf3",
   "metadata": {},
   "source": [
    "### Using Numba's Just-In-Time (JIT) compilation to speed up the computation of the Mandelbrot set:"
   ]
  },
  {
   "cell_type": "markdown",
   "id": "941ef242",
   "metadata": {},
   "source": [
    "Define the Mandelbrot set function: You can define the Mandelbrot set function using Numba's @jit decorator to specify that the function should be compiled using JIT. The function should take a complex number c and a threshold threshold as arguments, and return an integer that indicates the number of iterations it took for the magnitude of z to exceed the threshold. For example:"
   ]
  },
  {
   "cell_type": "code",
   "execution_count": null,
   "id": "2c178a77",
   "metadata": {},
   "outputs": [],
   "source": [
    "@numba.jit\n",
    "def mandelbrot(c, threshold=2):\n",
    "    z = 0\n",
    "    for i in range(100):\n",
    "        z = z**2 + c\n",
    "        if abs(z) > threshold:\n",
    "            return i\n",
    "    return 0\n",
    "\n",
    "xmin, xmax, ymin, ymax = -2, 1, -1, 1\n",
    "\n",
    "X, Y = np.meshgrid(np.linspace(xmin, xmax, 1000), np.linspace(ymin, ymax, 1000))\n",
    "Z = np.array([mandelbrot(complex(x, y)) for x, y in zip(X.flatten(), Y.flatten())]).reshape(X.shape)\n",
    "\n",
    "plt.imshow(Z, cmap='viridis', extent=(xmin, xmax, ymin, ymax))\n",
    "plt.colorbar()\n",
    "plt.show()"
   ]
  },
  {
   "cell_type": "code",
   "execution_count": null,
   "id": "30e28676",
   "metadata": {},
   "outputs": [],
   "source": []
  },
  {
   "cell_type": "markdown",
   "id": "03332c10",
   "metadata": {},
   "source": [
    "### Other approaches: Using Cython or multiprocessing!\n",
    "Cython provides another way of speeding up your python code. Have a look at the short blogs https://cvanelteren.github.io/post/cython_pure/ and the templates at https://cvanelteren.github.io/post/cython_templates/ \n",
    "\n",
    "For parallel programming have a look at https://carpentries-incubator.github.io/lesson-parallel-python/ "
   ]
  },
  {
   "cell_type": "markdown",
   "id": "61f2cdda",
   "metadata": {},
   "source": [
    "### Exercise: \n",
    "Use vectorisation, Numbas JIT or multiprocessing to speed up the following code. The function is inefficient because it performs a large number of iterations in a sequential manner. Use timeit() to show the improved computation time."
   ]
  },
  {
   "cell_type": "code",
   "execution_count": null,
   "id": "725439aa",
   "metadata": {},
   "outputs": [],
   "source": [
    "import math\n",
    "import random\n",
    "\n",
    "def distance(x1, y1, x2, y2):\n",
    "    return math.sqrt((x2 - x1) ** 2 + (y2 - y1) ** 2)\n",
    "\n",
    "def calculate_pi(num_samples):\n",
    "    inside_circle = 0\n",
    "    for i in range(num_samples):\n",
    "        x1, y1 = random.random(), random.random()\n",
    "        if distance(x1, y1, 0, 0) <= 1:\n",
    "            inside_circle += 1\n",
    "    return 4 * inside_circle / num_samples\n"
   ]
  },
  {
   "cell_type": "code",
   "execution_count": null,
   "id": "615a5147",
   "metadata": {},
   "outputs": [],
   "source": []
  },
  {
   "cell_type": "markdown",
   "id": "7a569f64",
   "metadata": {},
   "source": [
    "# Profiling Code: What slows it down?"
   ]
  },
  {
   "cell_type": "code",
   "execution_count": null,
   "id": "b369cfc6",
   "metadata": {},
   "outputs": [],
   "source": [
    "import time\n",
    "import random\n",
    "\n",
    "def very_slow_random_generator():\n",
    "    time.sleep(5)\n",
    "    arr = [random.randint(1,100) for i in range(100000)]\n",
    "    return sum(arr) / len(arr)\n",
    "\n",
    "def slow_random_generator():\n",
    "    time.sleep(2)\n",
    "    arr = [random.randint(1,100) for i in range(100000)]\n",
    "    return sum(arr) / len(arr)\n",
    "\n",
    "def fast_random_generator():\n",
    "    time.sleep(1)\n",
    "    arr = [random.randint(1,100) for i in range(100000)]\n",
    "    return sum(arr) / len(arr)\n",
    "\n",
    "\n",
    "def main_func():\n",
    "    result = fast_random_generator()\n",
    "    print(result)\n",
    "\n",
    "    result = slow_random_generator()\n",
    "    print(result)\n",
    "\n",
    "    result = very_slow_random_generator()\n",
    "    print(result)\n",
    "\n",
    "%snakeviz main_func()"
   ]
  },
  {
   "cell_type": "code",
   "execution_count": null,
   "id": "3f482e8b",
   "metadata": {},
   "outputs": [],
   "source": [
    "import random\n",
    "\n",
    "def estimate_pi(n):\n",
    "    count = 0\n",
    "    for i in range(n):\n",
    "        x, y = random.uniform(-1, 1), random.uniform(-1, 1)\n",
    "        if x ** 2 + y ** 2 <= 1:\n",
    "            count += 1\n",
    "    return 4 * count / n\n"
   ]
  },
  {
   "cell_type": "markdown",
   "id": "c16455a8",
   "metadata": {},
   "source": [
    "To profile this program, we'll use cProfile, which is included in Python's standard library. Here's an example command to run the program with cProfile:"
   ]
  },
  {
   "cell_type": "code",
   "execution_count": null,
   "id": "4207450f",
   "metadata": {},
   "outputs": [],
   "source": [
    "cProfile.run('estimate_pi(10000000)', filename='pi_stats')"
   ]
  },
  {
   "cell_type": "code",
   "execution_count": null,
   "id": "55873f0e",
   "metadata": {},
   "outputs": [],
   "source": [
    "%snakeviz estimate_pi(10000000)"
   ]
  },
  {
   "cell_type": "markdown",
   "id": "2d64145c",
   "metadata": {},
   "source": [
    "In our example, we can see that the random.uniform function takes up the most time, followed by the multiplication and division operations. This suggests that we can improve the performance of the function by minimizing the number of calls to the random.uniform function and optimizing the multiplication and division operations."
   ]
  },
  {
   "cell_type": "markdown",
   "id": "db65ab38",
   "metadata": {},
   "source": [
    "Based on the profiling results, we can create a more efficient implementation of the estimate_pi function by generating pairs of random numbers instead of individual numbers, using NumPy to perform the multiplication and division operations, and vectorizing the computation of the circle-area indicator. Here's the improved implementation:"
   ]
  },
  {
   "cell_type": "code",
   "execution_count": null,
   "id": "61bd002d",
   "metadata": {},
   "outputs": [],
   "source": [
    "import numpy as np\n",
    "\n",
    "def estimate_pi_v2(n):\n",
    "    x, y = np.random.uniform(-1, 1, (2, n))\n",
    "    count = np.sum(x ** 2 + y ** 2 <= 1)\n",
    "    return 4 * count / n\n"
   ]
  },
  {
   "cell_type": "code",
   "execution_count": null,
   "id": "b6205b59",
   "metadata": {},
   "outputs": [],
   "source": [
    "%snakeviz estimate_pi_v2(10000000)"
   ]
  },
  {
   "cell_type": "markdown",
   "id": "1eb03388",
   "metadata": {},
   "source": [
    "This implementation generates pairs of random numbers using NumPy's random.uniform function, computes the circle-area indicator using NumPy's array operations (which are much faster than Python's loop), and counts the number of points that fall within the circle using NumPy's sum function"
   ]
  },
  {
   "cell_type": "markdown",
   "id": "fcab5d5b",
   "metadata": {},
   "source": [
    "### Exercise: Time estimate_pi() and estimate_pi_v2() functions to see the improvement"
   ]
  },
  {
   "cell_type": "code",
   "execution_count": null,
   "id": "7296d530",
   "metadata": {},
   "outputs": [],
   "source": []
  },
  {
   "cell_type": "markdown",
   "id": "a7b70601",
   "metadata": {},
   "source": [
    "### Final Task\n",
    "\n",
    "1. Write a more efficient implementation of the pi_monte_carlo function using parallel processing (e.g. using the multiprocessing module), if not already done.\n",
    "\n",
    "2. Use cProfile and/or timeit to compare the performance of the original implementation and the new implementation.\n",
    "\n",
    "3. Visualize the profiling results using snakeviz and identify the areas where the new implementation is more efficient.\n",
    "\n",
    "4. Explain (briefly) which implementation you would recommend for computing pi using Monte Carlo simulations."
   ]
  },
  {
   "cell_type": "code",
   "execution_count": null,
   "id": "63ab0417",
   "metadata": {},
   "outputs": [],
   "source": []
  }
 ],
 "metadata": {
  "kernelspec": {
   "display_name": "Python 3 (ipykernel)",
   "language": "python",
   "name": "python3"
  },
  "language_info": {
   "codemirror_mode": {
    "name": "ipython",
    "version": 3
   },
   "file_extension": ".py",
   "mimetype": "text/x-python",
   "name": "python",
   "nbconvert_exporter": "python",
   "pygments_lexer": "ipython3",
   "version": "3.9.7"
  }
 },
 "nbformat": 4,
 "nbformat_minor": 5
}
